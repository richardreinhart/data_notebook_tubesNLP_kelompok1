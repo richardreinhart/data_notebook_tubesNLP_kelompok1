{
 "cells": [
  {
   "cell_type": "code",
   "execution_count": 33,
   "metadata": {
    "colab": {
     "base_uri": "https://localhost:8080/"
    },
    "id": "XMiZKY0QCawl",
    "outputId": "b3afc580-4e42-442d-bcc8-49a14e06148c"
   },
   "outputs": [
    {
     "name": "stdout",
     "output_type": "stream",
     "text": [
      "Requirement already satisfied: datasets in /usr/local/lib/python3.10/dist-packages (3.2.0)\n",
      "Requirement already satisfied: filelock in /usr/local/lib/python3.10/dist-packages (from datasets) (3.16.1)\n",
      "Requirement already satisfied: numpy>=1.17 in /usr/local/lib/python3.10/dist-packages (from datasets) (1.26.4)\n",
      "Requirement already satisfied: pyarrow>=15.0.0 in /usr/local/lib/python3.10/dist-packages (from datasets) (17.0.0)\n",
      "Requirement already satisfied: dill<0.3.9,>=0.3.0 in /usr/local/lib/python3.10/dist-packages (from datasets) (0.3.8)\n",
      "Requirement already satisfied: pandas in /usr/local/lib/python3.10/dist-packages (from datasets) (2.2.2)\n",
      "Requirement already satisfied: requests>=2.32.2 in /usr/local/lib/python3.10/dist-packages (from datasets) (2.32.3)\n",
      "Requirement already satisfied: tqdm>=4.66.3 in /usr/local/lib/python3.10/dist-packages (from datasets) (4.66.6)\n",
      "Requirement already satisfied: xxhash in /usr/local/lib/python3.10/dist-packages (from datasets) (3.5.0)\n",
      "Requirement already satisfied: multiprocess<0.70.17 in /usr/local/lib/python3.10/dist-packages (from datasets) (0.70.16)\n",
      "Requirement already satisfied: fsspec<=2024.9.0,>=2023.1.0 in /usr/local/lib/python3.10/dist-packages (from fsspec[http]<=2024.9.0,>=2023.1.0->datasets) (2024.9.0)\n",
      "Requirement already satisfied: aiohttp in /usr/local/lib/python3.10/dist-packages (from datasets) (3.11.9)\n",
      "Requirement already satisfied: huggingface-hub>=0.23.0 in /usr/local/lib/python3.10/dist-packages (from datasets) (0.26.3)\n",
      "Requirement already satisfied: packaging in /usr/local/lib/python3.10/dist-packages (from datasets) (24.2)\n",
      "Requirement already satisfied: pyyaml>=5.1 in /usr/local/lib/python3.10/dist-packages (from datasets) (6.0.2)\n",
      "Requirement already satisfied: aiohappyeyeballs>=2.3.0 in /usr/local/lib/python3.10/dist-packages (from aiohttp->datasets) (2.4.4)\n",
      "Requirement already satisfied: aiosignal>=1.1.2 in /usr/local/lib/python3.10/dist-packages (from aiohttp->datasets) (1.3.1)\n",
      "Requirement already satisfied: async-timeout<6.0,>=4.0 in /usr/local/lib/python3.10/dist-packages (from aiohttp->datasets) (4.0.3)\n",
      "Requirement already satisfied: attrs>=17.3.0 in /usr/local/lib/python3.10/dist-packages (from aiohttp->datasets) (24.2.0)\n",
      "Requirement already satisfied: frozenlist>=1.1.1 in /usr/local/lib/python3.10/dist-packages (from aiohttp->datasets) (1.5.0)\n",
      "Requirement already satisfied: multidict<7.0,>=4.5 in /usr/local/lib/python3.10/dist-packages (from aiohttp->datasets) (6.1.0)\n",
      "Requirement already satisfied: propcache>=0.2.0 in /usr/local/lib/python3.10/dist-packages (from aiohttp->datasets) (0.2.1)\n",
      "Requirement already satisfied: yarl<2.0,>=1.17.0 in /usr/local/lib/python3.10/dist-packages (from aiohttp->datasets) (1.18.3)\n",
      "Requirement already satisfied: typing-extensions>=3.7.4.3 in /usr/local/lib/python3.10/dist-packages (from huggingface-hub>=0.23.0->datasets) (4.12.2)\n",
      "Requirement already satisfied: charset-normalizer<4,>=2 in /usr/local/lib/python3.10/dist-packages (from requests>=2.32.2->datasets) (3.4.0)\n",
      "Requirement already satisfied: idna<4,>=2.5 in /usr/local/lib/python3.10/dist-packages (from requests>=2.32.2->datasets) (3.10)\n",
      "Requirement already satisfied: urllib3<3,>=1.21.1 in /usr/local/lib/python3.10/dist-packages (from requests>=2.32.2->datasets) (2.2.3)\n",
      "Requirement already satisfied: certifi>=2017.4.17 in /usr/local/lib/python3.10/dist-packages (from requests>=2.32.2->datasets) (2024.8.30)\n",
      "Requirement already satisfied: python-dateutil>=2.8.2 in /usr/local/lib/python3.10/dist-packages (from pandas->datasets) (2.8.2)\n",
      "Requirement already satisfied: pytz>=2020.1 in /usr/local/lib/python3.10/dist-packages (from pandas->datasets) (2024.2)\n",
      "Requirement already satisfied: tzdata>=2022.7 in /usr/local/lib/python3.10/dist-packages (from pandas->datasets) (2024.2)\n",
      "Requirement already satisfied: six>=1.5 in /usr/local/lib/python3.10/dist-packages (from python-dateutil>=2.8.2->pandas->datasets) (1.16.0)\n"
     ]
    }
   ],
   "source": [
    "!pip install datasets"
   ]
  },
  {
   "cell_type": "code",
   "execution_count": 34,
   "metadata": {
    "colab": {
     "base_uri": "https://localhost:8080/"
    },
    "id": "P14Q2H79qwZl",
    "outputId": "91dd1c94-c59b-488f-e282-382157710d98"
   },
   "outputs": [
    {
     "name": "stderr",
     "output_type": "stream",
     "text": [
      "[nltk_data] Downloading package punkt to /root/nltk_data...\n",
      "[nltk_data]   Package punkt is already up-to-date!\n",
      "[nltk_data] Downloading package punkt_tab to /root/nltk_data...\n",
      "[nltk_data]   Package punkt_tab is already up-to-date!\n"
     ]
    },
    {
     "data": {
      "text/plain": [
       "True"
      ]
     },
     "execution_count": 34,
     "metadata": {},
     "output_type": "execute_result"
    }
   ],
   "source": [
    "import pandas as pd\n",
    "import torch\n",
    "import re\n",
    "import nltk\n",
    "from sklearn.model_selection import train_test_split\n",
    "from sklearn.metrics import precision_recall_fscore_support\n",
    "from datasets import Dataset\n",
    "from transformers import BertTokenizer, BertForSequenceClassification, Trainer, TrainingArguments, AutoModel, AutoTokenizer, AutoModelForSequenceClassification\n",
    "\n",
    "nltk.download('punkt')\n",
    "nltk.download('punkt_tab')"
   ]
  },
  {
   "cell_type": "code",
   "execution_count": null,
   "metadata": {
    "colab": {
     "base_uri": "https://localhost:8080/",
     "height": 206
    },
    "id": "xCe9pofIYQKT",
    "outputId": "5659d87a-cf2e-4898-db7a-348ef68165d3"
   },
   "outputs": [
    {
     "data": {
      "application/vnd.google.colaboratory.intrinsic+json": {
       "summary": "{\n  \"name\": \"data\",\n  \"rows\": 1000,\n  \"fields\": [\n    {\n      \"column\": \"sentences\",\n      \"properties\": {\n        \"dtype\": \"string\",\n        \"num_unique_values\": 538,\n        \"samples\": [\n          \"Its listeners are neither anarchist feminists nor aspiring tradwives, but the great middle of American Gen Z straight(ish) women, who think sex before marriage is fun but also dream of settling down with Mr.\",\n          \"\\\"I'm from Ohio, I am not from the South, but I think there's a phrase that really works \\u00e2\\u0080\\u0094 bless your heart,\\\" he said.\",\n          \"\\u00e2\\u0080\\u009cThey\\u00e2\\u0080\\u0099ve tried to hang Joe Biden around her negatively, but that has not worked because she is not him \\u00e2\\u0080\\u0094 she is clearly younger than him, and she is clearly female.\\u00e2\\u0080\\u009d\\n\\n\"\n        ],\n        \"semantic_type\": \"\",\n        \"description\": \"\"\n      }\n    },\n    {\n      \"column\": \"aspects\",\n      \"properties\": {\n        \"dtype\": \"category\",\n        \"num_unique_values\": 2,\n        \"samples\": [\n          \"Kamala Harris\",\n          \"Donald Trump\"\n        ],\n        \"semantic_type\": \"\",\n        \"description\": \"\"\n      }\n    },\n    {\n      \"column\": \"labels\",\n      \"properties\": {\n        \"dtype\": \"number\",\n        \"std\": 0,\n        \"min\": 0,\n        \"max\": 2,\n        \"num_unique_values\": 3,\n        \"samples\": [\n          2,\n          0\n        ],\n        \"semantic_type\": \"\",\n        \"description\": \"\"\n      }\n    }\n  ]\n}",
       "type": "dataframe",
       "variable_name": "data"
      },
      "text/html": [
       "\n",
       "  <div id=\"df-b200861f-c846-4f36-be73-598167d2ebd5\" class=\"colab-df-container\">\n",
       "    <div>\n",
       "<style scoped>\n",
       "    .dataframe tbody tr th:only-of-type {\n",
       "        vertical-align: middle;\n",
       "    }\n",
       "\n",
       "    .dataframe tbody tr th {\n",
       "        vertical-align: top;\n",
       "    }\n",
       "\n",
       "    .dataframe thead th {\n",
       "        text-align: right;\n",
       "    }\n",
       "</style>\n",
       "<table border=\"1\" class=\"dataframe\">\n",
       "  <thead>\n",
       "    <tr style=\"text-align: right;\">\n",
       "      <th></th>\n",
       "      <th>sentences</th>\n",
       "      <th>aspects</th>\n",
       "      <th>labels</th>\n",
       "    </tr>\n",
       "  </thead>\n",
       "  <tbody>\n",
       "    <tr>\n",
       "      <th>0</th>\n",
       "      <td>Ben Horowitz, A16z cofounder, said in July tha...</td>\n",
       "      <td>Donald Trump</td>\n",
       "      <td>2</td>\n",
       "    </tr>\n",
       "    <tr>\n",
       "      <th>1</th>\n",
       "      <td>An email to A16z employees now reveals that he...</td>\n",
       "      <td>Donald Trump</td>\n",
       "      <td>0</td>\n",
       "    </tr>\n",
       "    <tr>\n",
       "      <th>2</th>\n",
       "      <td>The investor wrote that he and his wife will b...</td>\n",
       "      <td>Donald Trump</td>\n",
       "      <td>0</td>\n",
       "    </tr>\n",
       "    <tr>\n",
       "      <th>3</th>\n",
       "      <td>Sign up to get the inside scoop on todayâs b...</td>\n",
       "      <td>Donald Trump</td>\n",
       "      <td>1</td>\n",
       "    </tr>\n",
       "    <tr>\n",
       "      <th>4</th>\n",
       "      <td>Read preview Thanks for signing up!</td>\n",
       "      <td>Donald Trump</td>\n",
       "      <td>1</td>\n",
       "    </tr>\n",
       "  </tbody>\n",
       "</table>\n",
       "</div>\n",
       "    <div class=\"colab-df-buttons\">\n",
       "\n",
       "  <div class=\"colab-df-container\">\n",
       "    <button class=\"colab-df-convert\" onclick=\"convertToInteractive('df-b200861f-c846-4f36-be73-598167d2ebd5')\"\n",
       "            title=\"Convert this dataframe to an interactive table.\"\n",
       "            style=\"display:none;\">\n",
       "\n",
       "  <svg xmlns=\"http://www.w3.org/2000/svg\" height=\"24px\" viewBox=\"0 -960 960 960\">\n",
       "    <path d=\"M120-120v-720h720v720H120Zm60-500h600v-160H180v160Zm220 220h160v-160H400v160Zm0 220h160v-160H400v160ZM180-400h160v-160H180v160Zm440 0h160v-160H620v160ZM180-180h160v-160H180v160Zm440 0h160v-160H620v160Z\"/>\n",
       "  </svg>\n",
       "    </button>\n",
       "\n",
       "  <style>\n",
       "    .colab-df-container {\n",
       "      display:flex;\n",
       "      gap: 12px;\n",
       "    }\n",
       "\n",
       "    .colab-df-convert {\n",
       "      background-color: #E8F0FE;\n",
       "      border: none;\n",
       "      border-radius: 50%;\n",
       "      cursor: pointer;\n",
       "      display: none;\n",
       "      fill: #1967D2;\n",
       "      height: 32px;\n",
       "      padding: 0 0 0 0;\n",
       "      width: 32px;\n",
       "    }\n",
       "\n",
       "    .colab-df-convert:hover {\n",
       "      background-color: #E2EBFA;\n",
       "      box-shadow: 0px 1px 2px rgba(60, 64, 67, 0.3), 0px 1px 3px 1px rgba(60, 64, 67, 0.15);\n",
       "      fill: #174EA6;\n",
       "    }\n",
       "\n",
       "    .colab-df-buttons div {\n",
       "      margin-bottom: 4px;\n",
       "    }\n",
       "\n",
       "    [theme=dark] .colab-df-convert {\n",
       "      background-color: #3B4455;\n",
       "      fill: #D2E3FC;\n",
       "    }\n",
       "\n",
       "    [theme=dark] .colab-df-convert:hover {\n",
       "      background-color: #434B5C;\n",
       "      box-shadow: 0px 1px 3px 1px rgba(0, 0, 0, 0.15);\n",
       "      filter: drop-shadow(0px 1px 2px rgba(0, 0, 0, 0.3));\n",
       "      fill: #FFFFFF;\n",
       "    }\n",
       "  </style>\n",
       "\n",
       "    <script>\n",
       "      const buttonEl =\n",
       "        document.querySelector('#df-b200861f-c846-4f36-be73-598167d2ebd5 button.colab-df-convert');\n",
       "      buttonEl.style.display =\n",
       "        google.colab.kernel.accessAllowed ? 'block' : 'none';\n",
       "\n",
       "      async function convertToInteractive(key) {\n",
       "        const element = document.querySelector('#df-b200861f-c846-4f36-be73-598167d2ebd5');\n",
       "        const dataTable =\n",
       "          await google.colab.kernel.invokeFunction('convertToInteractive',\n",
       "                                                    [key], {});\n",
       "        if (!dataTable) return;\n",
       "\n",
       "        const docLinkHtml = 'Like what you see? Visit the ' +\n",
       "          '<a target=\"_blank\" href=https://colab.research.google.com/notebooks/data_table.ipynb>data table notebook</a>'\n",
       "          + ' to learn more about interactive tables.';\n",
       "        element.innerHTML = '';\n",
       "        dataTable['output_type'] = 'display_data';\n",
       "        await google.colab.output.renderOutput(dataTable, element);\n",
       "        const docLink = document.createElement('div');\n",
       "        docLink.innerHTML = docLinkHtml;\n",
       "        element.appendChild(docLink);\n",
       "      }\n",
       "    </script>\n",
       "  </div>\n",
       "\n",
       "\n",
       "<div id=\"df-ad449039-175c-437f-96ef-1bcf7a292596\">\n",
       "  <button class=\"colab-df-quickchart\" onclick=\"quickchart('df-ad449039-175c-437f-96ef-1bcf7a292596')\"\n",
       "            title=\"Suggest charts\"\n",
       "            style=\"display:none;\">\n",
       "\n",
       "<svg xmlns=\"http://www.w3.org/2000/svg\" height=\"24px\"viewBox=\"0 0 24 24\"\n",
       "     width=\"24px\">\n",
       "    <g>\n",
       "        <path d=\"M19 3H5c-1.1 0-2 .9-2 2v14c0 1.1.9 2 2 2h14c1.1 0 2-.9 2-2V5c0-1.1-.9-2-2-2zM9 17H7v-7h2v7zm4 0h-2V7h2v10zm4 0h-2v-4h2v4z\"/>\n",
       "    </g>\n",
       "</svg>\n",
       "  </button>\n",
       "\n",
       "<style>\n",
       "  .colab-df-quickchart {\n",
       "      --bg-color: #E8F0FE;\n",
       "      --fill-color: #1967D2;\n",
       "      --hover-bg-color: #E2EBFA;\n",
       "      --hover-fill-color: #174EA6;\n",
       "      --disabled-fill-color: #AAA;\n",
       "      --disabled-bg-color: #DDD;\n",
       "  }\n",
       "\n",
       "  [theme=dark] .colab-df-quickchart {\n",
       "      --bg-color: #3B4455;\n",
       "      --fill-color: #D2E3FC;\n",
       "      --hover-bg-color: #434B5C;\n",
       "      --hover-fill-color: #FFFFFF;\n",
       "      --disabled-bg-color: #3B4455;\n",
       "      --disabled-fill-color: #666;\n",
       "  }\n",
       "\n",
       "  .colab-df-quickchart {\n",
       "    background-color: var(--bg-color);\n",
       "    border: none;\n",
       "    border-radius: 50%;\n",
       "    cursor: pointer;\n",
       "    display: none;\n",
       "    fill: var(--fill-color);\n",
       "    height: 32px;\n",
       "    padding: 0;\n",
       "    width: 32px;\n",
       "  }\n",
       "\n",
       "  .colab-df-quickchart:hover {\n",
       "    background-color: var(--hover-bg-color);\n",
       "    box-shadow: 0 1px 2px rgba(60, 64, 67, 0.3), 0 1px 3px 1px rgba(60, 64, 67, 0.15);\n",
       "    fill: var(--button-hover-fill-color);\n",
       "  }\n",
       "\n",
       "  .colab-df-quickchart-complete:disabled,\n",
       "  .colab-df-quickchart-complete:disabled:hover {\n",
       "    background-color: var(--disabled-bg-color);\n",
       "    fill: var(--disabled-fill-color);\n",
       "    box-shadow: none;\n",
       "  }\n",
       "\n",
       "  .colab-df-spinner {\n",
       "    border: 2px solid var(--fill-color);\n",
       "    border-color: transparent;\n",
       "    border-bottom-color: var(--fill-color);\n",
       "    animation:\n",
       "      spin 1s steps(1) infinite;\n",
       "  }\n",
       "\n",
       "  @keyframes spin {\n",
       "    0% {\n",
       "      border-color: transparent;\n",
       "      border-bottom-color: var(--fill-color);\n",
       "      border-left-color: var(--fill-color);\n",
       "    }\n",
       "    20% {\n",
       "      border-color: transparent;\n",
       "      border-left-color: var(--fill-color);\n",
       "      border-top-color: var(--fill-color);\n",
       "    }\n",
       "    30% {\n",
       "      border-color: transparent;\n",
       "      border-left-color: var(--fill-color);\n",
       "      border-top-color: var(--fill-color);\n",
       "      border-right-color: var(--fill-color);\n",
       "    }\n",
       "    40% {\n",
       "      border-color: transparent;\n",
       "      border-right-color: var(--fill-color);\n",
       "      border-top-color: var(--fill-color);\n",
       "    }\n",
       "    60% {\n",
       "      border-color: transparent;\n",
       "      border-right-color: var(--fill-color);\n",
       "    }\n",
       "    80% {\n",
       "      border-color: transparent;\n",
       "      border-right-color: var(--fill-color);\n",
       "      border-bottom-color: var(--fill-color);\n",
       "    }\n",
       "    90% {\n",
       "      border-color: transparent;\n",
       "      border-bottom-color: var(--fill-color);\n",
       "    }\n",
       "  }\n",
       "</style>\n",
       "\n",
       "  <script>\n",
       "    async function quickchart(key) {\n",
       "      const quickchartButtonEl =\n",
       "        document.querySelector('#' + key + ' button');\n",
       "      quickchartButtonEl.disabled = true;  // To prevent multiple clicks.\n",
       "      quickchartButtonEl.classList.add('colab-df-spinner');\n",
       "      try {\n",
       "        const charts = await google.colab.kernel.invokeFunction(\n",
       "            'suggestCharts', [key], {});\n",
       "      } catch (error) {\n",
       "        console.error('Error during call to suggestCharts:', error);\n",
       "      }\n",
       "      quickchartButtonEl.classList.remove('colab-df-spinner');\n",
       "      quickchartButtonEl.classList.add('colab-df-quickchart-complete');\n",
       "    }\n",
       "    (() => {\n",
       "      let quickchartButtonEl =\n",
       "        document.querySelector('#df-ad449039-175c-437f-96ef-1bcf7a292596 button');\n",
       "      quickchartButtonEl.style.display =\n",
       "        google.colab.kernel.accessAllowed ? 'block' : 'none';\n",
       "    })();\n",
       "  </script>\n",
       "</div>\n",
       "\n",
       "    </div>\n",
       "  </div>\n"
      ],
      "text/plain": [
       "                                           sentences       aspects  labels\n",
       "0  Ben Horowitz, A16z cofounder, said in July tha...  Donald Trump       2\n",
       "1  An email to A16z employees now reveals that he...  Donald Trump       0\n",
       "2  The investor wrote that he and his wife will b...  Donald Trump       0\n",
       "3  Sign up to get the inside scoop on todayâs b...  Donald Trump       1\n",
       "4                Read preview Thanks for signing up!  Donald Trump       1"
      ]
     },
     "execution_count": 52,
     "metadata": {},
     "output_type": "execute_result"
    }
   ],
   "source": [
    "data = pd.read_csv('/content/news_data_sentence.csv', encoding='latin-1')\n",
    "data.head()"
   ]
  },
  {
   "cell_type": "code",
   "execution_count": 53,
   "metadata": {
    "colab": {
     "base_uri": "https://localhost:8080/"
    },
    "id": "JhshpT28BDfb",
    "outputId": "73af61df-10a0-4ffe-e810-0a19788b6c5f"
   },
   "outputs": [
    {
     "name": "stdout",
     "output_type": "stream",
     "text": [
      "<class 'pandas.core.frame.DataFrame'>\n",
      "RangeIndex: 1000 entries, 0 to 999\n",
      "Data columns (total 3 columns):\n",
      " #   Column     Non-Null Count  Dtype \n",
      "---  ------     --------------  ----- \n",
      " 0   sentences  1000 non-null   object\n",
      " 1   aspects    1000 non-null   object\n",
      " 2   labels     1000 non-null   int64 \n",
      "dtypes: int64(1), object(2)\n",
      "memory usage: 23.6+ KB\n"
     ]
    }
   ],
   "source": [
    "data.info()"
   ]
  },
  {
   "cell_type": "code",
   "execution_count": 54,
   "metadata": {
    "colab": {
     "base_uri": "https://localhost:8080/"
    },
    "id": "hpPifA4Pk7tm",
    "outputId": "0c9265d4-9cbe-4230-bc6d-88645514aba9"
   },
   "outputs": [
    {
     "name": "stdout",
     "output_type": "stream",
     "text": [
      "Read the email below:\n",
      "Ben Horowitz, A16z cofounder, said in July that he plans to support former President Donald Trump's campaign.\n",
      "An email to A16z employees now reveals that he plans to donate to Vice President Kamala Harris.\n",
      "The investor wrote that he and his wife will be making a \"significant donation\" to support Harris.\n",
      "Sign up to get the inside scoop on todayâs biggest stories in markets, tech, and business â delivered daily.\n",
      "Read preview Thanks for signing up!\n",
      "Go to newsletter preferences Thanks for signing up!\n",
      "Access your favorite topics in a personalized feed while you're on the go.\n",
      "download the app Email address Sign up By clicking âSign Upâ, you accept our Terms of Service and Privacy Policy .\n"
     ]
    }
   ],
   "source": [
    "for i in range(21, 30):\n",
    "  print(data.loc[i, 'sentences'])"
   ]
  },
  {
   "cell_type": "code",
   "execution_count": 55,
   "metadata": {
    "id": "EQTZasIpkndU"
   },
   "outputs": [],
   "source": [
    "data['sentences'] = data['sentences'].apply(lambda x: re.sub(r'[^\\w\\s]', '', x))\n",
    "data['sentences'] = data['sentences'].apply(lambda x: x.lower())"
   ]
  },
  {
   "cell_type": "code",
   "execution_count": 56,
   "metadata": {
    "colab": {
     "base_uri": "https://localhost:8080/"
    },
    "id": "YI0149orhF3m",
    "outputId": "926d511e-df6d-48fa-fad7-866dae37ba7a"
   },
   "outputs": [
    {
     "name": "stdout",
     "output_type": "stream",
     "text": [
      "read the email below\n",
      "ben horowitz a16z cofounder said in july that he plans to support former president donald trumps campaign\n",
      "an email to a16z employees now reveals that he plans to donate to vice president kamala harris\n",
      "the investor wrote that he and his wife will be making a significant donation to support harris\n",
      "sign up to get the inside scoop on todayâs biggest stories in markets tech and business â delivered daily\n",
      "read preview thanks for signing up\n",
      "go to newsletter preferences thanks for signing up\n",
      "access your favorite topics in a personalized feed while youre on the go\n",
      "download the app email address sign up by clicking âsign upâ you accept our terms of service and privacy policy \n"
     ]
    }
   ],
   "source": [
    "for i in range(21, 30):\n",
    "  print(data.loc[i, 'sentences'])"
   ]
  },
  {
   "cell_type": "code",
   "execution_count": 57,
   "metadata": {
    "id": "EXai5MWAOHOM"
   },
   "outputs": [],
   "source": [
    "from torch.utils.data import Dataset\n",
    "\n",
    "class AspectSentimentDataset(Dataset):\n",
    "    def __init__(self, data, tokenizer, max_length):\n",
    "        self.data = data\n",
    "        self.tokenizer = tokenizer\n",
    "        self.max_length = max_length\n",
    "\n",
    "    def __len__(self):\n",
    "        return len(self.data)\n",
    "\n",
    "    def __getitem__(self, idx):\n",
    "        item = self.data[idx]\n",
    "        text, aspect, sentiment = item[\"text\"], item[\"aspect\"], item[\"sentiment\"]\n",
    "        inputs = self.tokenizer(\n",
    "            f\"{text} [SEP] {aspect}\",\n",
    "            truncation=True,\n",
    "            padding=\"max_length\",\n",
    "            max_length=self.max_length,\n",
    "            return_tensors=\"pt\",\n",
    "        )\n",
    "        return {\n",
    "            \"input_ids\": inputs[\"input_ids\"].squeeze(),\n",
    "            \"attention_mask\": inputs[\"attention_mask\"].squeeze(),\n",
    "            \"labels\": torch.tensor(sentiment, dtype=torch.long),\n",
    "        }\n",
    "\n",
    "# Create dataset\n",
    "# dataset = AspectSentimentDataset(dataset, tokenizer, max_length=128)\n",
    "\n",
    "def compute_metrics(p):\n",
    "    predictions, labels = p\n",
    "    # Convert logits to predicted class\n",
    "    pred = predictions.argmax(axis=-1)\n",
    "    # Compute precision, recall, and F1 score\n",
    "    precision, recall, f1, _ = precision_recall_fscore_support(labels, pred, average='weighted')\n",
    "\n",
    "    # Return the metrics in a dictionary\n",
    "    return {\n",
    "        \"precision\": precision,\n",
    "        \"recall\": recall,\n",
    "        \"f1\": f1,\n",
    "    }\n"
   ]
  },
  {
   "cell_type": "code",
   "execution_count": 58,
   "metadata": {
    "colab": {
     "base_uri": "https://localhost:8080/"
    },
    "id": "xX-KQ4pROHQy",
    "outputId": "cf4bc92e-ffb1-4e4a-b51b-1fef0fce061f"
   },
   "outputs": [
    {
     "name": "stderr",
     "output_type": "stream",
     "text": [
      "Some weights of BertForSequenceClassification were not initialized from the model checkpoint at bert-base-uncased and are newly initialized: ['classifier.bias', 'classifier.weight']\n",
      "You should probably TRAIN this model on a down-stream task to be able to use it for predictions and inference.\n"
     ]
    }
   ],
   "source": [
    "from transformers import AutoTokenizer\n",
    "\n",
    "model = BertForSequenceClassification.from_pretrained('bert-base-uncased', num_labels=3)\n",
    "tokenizer = BertTokenizer.from_pretrained('bert-base-uncased')"
   ]
  },
  {
   "cell_type": "code",
   "execution_count": 59,
   "metadata": {
    "id": "2GDrJYf-YyLk"
   },
   "outputs": [],
   "source": [
    "dataset = []\n",
    "\n",
    "for index, row in data.iloc[:1000].iterrows():\n",
    "    text = row['sentences']\n",
    "    aspect = row['aspects']\n",
    "    sentiment = row['labels']\n",
    "    dataset.append({'text': text, 'aspect': aspect, 'sentiment': sentiment})"
   ]
  },
  {
   "cell_type": "code",
   "execution_count": 60,
   "metadata": {
    "colab": {
     "base_uri": "https://localhost:8080/"
    },
    "id": "f0Gbi3SAa8dz",
    "outputId": "658cb4fa-2eb8-4623-c507-0b7e66b65e21"
   },
   "outputs": [
    {
     "data": {
      "text/plain": [
       "(800, 100, 100)"
      ]
     },
     "execution_count": 60,
     "metadata": {},
     "output_type": "execute_result"
    }
   ],
   "source": [
    "from sklearn.model_selection import train_test_split\n",
    "from torch.utils.data import DataLoader, random_split\n",
    "\n",
    "# Split data into train (80%), validation (10%), and test (10%)\n",
    "train_data, temp_data = train_test_split(dataset, test_size=0.2, random_state=42)\n",
    "val_data, test_data = train_test_split(temp_data, test_size=0.5, random_state=42)\n",
    "\n",
    "train_dataset = AspectSentimentDataset(train_data, tokenizer, max_length=512)\n",
    "val_dataset = AspectSentimentDataset(val_data, tokenizer, max_length=512)\n",
    "test_dataset = AspectSentimentDataset(test_data, tokenizer, max_length=512)\n",
    "\n",
    "len(train_data), len(val_data), len(test_data)"
   ]
  },
  {
   "cell_type": "code",
   "execution_count": 61,
   "metadata": {
    "colab": {
     "base_uri": "https://localhost:8080/",
     "height": 243
    },
    "id": "vggPesjKOHL6",
    "outputId": "4673dc9d-5b86-4093-842e-8d3ce998f68e"
   },
   "outputs": [
    {
     "name": "stderr",
     "output_type": "stream",
     "text": [
      "/usr/local/lib/python3.10/dist-packages/transformers/training_args.py:1568: FutureWarning: `evaluation_strategy` is deprecated and will be removed in version 4.46 of 🤗 Transformers. Use `eval_strategy` instead\n",
      "  warnings.warn(\n"
     ]
    },
    {
     "data": {
      "text/html": [
       "\n",
       "    <div>\n",
       "      \n",
       "      <progress value='75' max='75' style='width:300px; height:20px; vertical-align: middle;'></progress>\n",
       "      [75/75 04:17, Epoch 3/3]\n",
       "    </div>\n",
       "    <table border=\"1\" class=\"dataframe\">\n",
       "  <thead>\n",
       " <tr style=\"text-align: left;\">\n",
       "      <th>Epoch</th>\n",
       "      <th>Training Loss</th>\n",
       "      <th>Validation Loss</th>\n",
       "      <th>Precision</th>\n",
       "      <th>Recall</th>\n",
       "      <th>F1</th>\n",
       "    </tr>\n",
       "  </thead>\n",
       "  <tbody>\n",
       "    <tr>\n",
       "      <td>1</td>\n",
       "      <td>1.057600</td>\n",
       "      <td>0.959000</td>\n",
       "      <td>0.624429</td>\n",
       "      <td>0.610000</td>\n",
       "      <td>0.614993</td>\n",
       "    </tr>\n",
       "    <tr>\n",
       "      <td>2</td>\n",
       "      <td>0.806600</td>\n",
       "      <td>0.867770</td>\n",
       "      <td>0.614676</td>\n",
       "      <td>0.600000</td>\n",
       "      <td>0.604354</td>\n",
       "    </tr>\n",
       "    <tr>\n",
       "      <td>3</td>\n",
       "      <td>0.596400</td>\n",
       "      <td>0.840031</td>\n",
       "      <td>0.650883</td>\n",
       "      <td>0.650000</td>\n",
       "      <td>0.650355</td>\n",
       "    </tr>\n",
       "  </tbody>\n",
       "</table><p>"
      ],
      "text/plain": [
       "<IPython.core.display.HTML object>"
      ]
     },
     "metadata": {},
     "output_type": "display_data"
    },
    {
     "data": {
      "text/plain": [
       "TrainOutput(global_step=75, training_loss=0.8328425852457683, metrics={'train_runtime': 260.3213, 'train_samples_per_second': 9.219, 'train_steps_per_second': 0.288, 'total_flos': 631472202547200.0, 'train_loss': 0.8328425852457683, 'epoch': 3.0})"
      ]
     },
     "execution_count": 61,
     "metadata": {},
     "output_type": "execute_result"
    }
   ],
   "source": [
    "from transformers import Trainer, TrainingArguments\n",
    "\n",
    "training_args = TrainingArguments(\n",
    "    output_dir=\"./results\",\n",
    "    num_train_epochs=3,\n",
    "    per_device_train_batch_size=32,\n",
    "    evaluation_strategy=\"epoch\",\n",
    "    save_strategy=\"epoch\",\n",
    "    logging_dir=\"./logs\",\n",
    "    logging_steps=10,\n",
    "    # weight_decay=0.01,\n",
    "    learning_rate=5e-5,\n",
    ")\n",
    "\n",
    "trainer = Trainer(\n",
    "    model=model,\n",
    "    args=training_args,\n",
    "    train_dataset=train_dataset,\n",
    "    eval_dataset=val_dataset,\n",
    "    compute_metrics=compute_metrics,\n",
    ")\n",
    "\n",
    "\n",
    "trainer.train()"
   ]
  },
  {
   "cell_type": "code",
   "execution_count": 62,
   "metadata": {
    "colab": {
     "base_uri": "https://localhost:8080/",
     "height": 92
    },
    "id": "-GilXgiKbe9c",
    "outputId": "cda07ec6-a444-4820-d682-efafe6464ae5"
   },
   "outputs": [
    {
     "data": {
      "text/html": [
       "\n",
       "    <div>\n",
       "      \n",
       "      <progress value='13' max='13' style='width:300px; height:20px; vertical-align: middle;'></progress>\n",
       "      [13/13 00:02]\n",
       "    </div>\n",
       "    "
      ],
      "text/plain": [
       "<IPython.core.display.HTML object>"
      ]
     },
     "metadata": {},
     "output_type": "display_data"
    },
    {
     "name": "stdout",
     "output_type": "stream",
     "text": [
      "Precision: 0.7462507934675977\n",
      "Recall: 0.74\n",
      "F1 Score: 0.7403808095952025\n"
     ]
    }
   ],
   "source": [
    "# After training, you can evaluate the model on the test set\n",
    "eval_results = trainer.evaluate(test_dataset)\n",
    "print(f\"Precision: {eval_results['eval_precision']}\")\n",
    "print(f\"Recall: {eval_results['eval_recall']}\")\n",
    "print(f\"F1 Score: {eval_results['eval_f1']}\")"
   ]
  },
  {
   "cell_type": "markdown",
   "metadata": {
    "id": "RaHQ7z3gvhmh"
   },
   "source": [
    "Beberapa percobaan yang dilakukan:\n",
    "\n",
    "1400 data batch 32 epoch 10<br>\n",
    "Precision: 0.5802468487394958 <br>\n",
    "Recall: 0.5785714285714286 <br>\n",
    "F1 Score: 0.5783197754626326 <br><br>\n",
    "\n",
    "1700 data batch 32 epoch 10<br>\n",
    "Precision: 0.6016708072629126 <br>\n",
    "Recall: 0.5847953216374269 <br>\n",
    "F1 Score: 0.5887521620953793 <br><br>\n",
    "\n",
    "2000 data batch 32 epoch 10<br>\n",
    "Precision: 0.6556288936627283 <br>\n",
    "Recall: 0.655 <br>\n",
    "F1 Score: 0.6532557759863087 <br><br>\n",
    "\n",
    "2000 data batch 16 epoch 3 <br>\n",
    "Precision: 0.6617769871106337 <br>\n",
    "Recall: 0.65 <br>\n",
    "F1 Score: 0.6496530784538384 <br><br>\n",
    "\n",
    "2000 data batch 16 epoch 3 weight decay 0.01<br>\n",
    "Precision: 0.6634589160839162 <br>\n",
    "Recall: 0.66 <br>\n",
    "F1 Score: 0.6608911976911976 <br><br>\n",
    "\n",
    "1000 data batch 32 epoch 3 weight decay 0.01 <br>\n",
    "Precision: 0.7163939061688499 <br>\n",
    "Recall: 0.71 <br>\n",
    "F1 Score: 0.710528635682159 <br><br>\n",
    "\n",
    "best model <br>\n",
    "1000 data batch 32 epoch 3 <br>\n",
    "Precision: 0.7462507934675977 <br>\n",
    "Recall: 0.74 <br>\n",
    "F1 Score: 0.7403808095952025 <br><br>\n",
    "\n",
    "\n",
    "\n"
   ]
  },
  {
   "cell_type": "code",
   "execution_count": 63,
   "metadata": {
    "colab": {
     "base_uri": "https://localhost:8080/"
    },
    "id": "vwxbyPM4JDoJ",
    "outputId": "55f761bf-d65e-4f56-de0e-0b4500f0d473"
   },
   "outputs": [
    {
     "data": {
      "text/plain": [
       "('./sentiment_analysis/tokenizer_config.json',\n",
       " './sentiment_analysis/special_tokens_map.json',\n",
       " './sentiment_analysis/vocab.txt',\n",
       " './sentiment_analysis/added_tokens.json')"
      ]
     },
     "execution_count": 63,
     "metadata": {},
     "output_type": "execute_result"
    }
   ],
   "source": [
    "trainer.save_model(\"./sentiment_analysis\")\n",
    "tokenizer.save_pretrained(\"./sentiment_analysis\")"
   ]
  },
  {
   "cell_type": "markdown",
   "metadata": {
    "id": "aIcBt62bJ6mA"
   },
   "source": [
    "# Predict using finetuned model"
   ]
  },
  {
   "cell_type": "code",
   "execution_count": null,
   "metadata": {
    "id": "JC_r2ALrOHJH"
   },
   "outputs": [],
   "source": [
    "from transformers import AutoTokenizer\n",
    "from transformers import AutoModelForSequenceClassification\n",
    "import torch\n",
    "\n",
    "model_name = \"/content/best model\"\n",
    "tokenizer = AutoTokenizer.from_pretrained(model_name)\n",
    "model = AutoModelForSequenceClassification.from_pretrained(model_name)\n",
    "\n",
    "# Define function to predict sentiment for a single sentence\n",
    "def predict_sentence(sentences, aspect, max_length=128):\n",
    "    results = []\n",
    "    for sentence in sentences:\n",
    "        # Tokenize the sentence with aspect\n",
    "        inputs = tokenizer(\n",
    "            f\"{sentence} [SEP] {aspect}\",\n",
    "            truncation=True,\n",
    "            padding=\"max_length\",\n",
    "            max_length=max_length,\n",
    "            return_tensors=\"pt\",\n",
    "        )\n",
    "\n",
    "        # Make prediction\n",
    "        with torch.no_grad():\n",
    "            outputs = model(**inputs)\n",
    "            logits = outputs.logits\n",
    "            predicted_label = torch.argmax(logits, dim=-1).item()\n",
    "            results.append(predicted_label)\n",
    "\n",
    "    return results"
   ]
  },
  {
   "cell_type": "code",
   "execution_count": 65,
   "metadata": {
    "id": "IP68HowsOHGA"
   },
   "outputs": [],
   "source": [
    "from collections import Counter\n",
    "\n",
    "# Aggregate results using majority voting\n",
    "def aggregate_predictions(predictions):\n",
    "    # Count frequency of each sentiment\n",
    "    sentiment_counts = Counter(predictions)\n",
    "    # Find the most frequent sentiment\n",
    "    document_sentiment = sentiment_counts.most_common(1)[0][0]\n",
    "    return document_sentiment\n",
    "\n",
    "# Define function to predict sentiment for a document\n",
    "def predict_document(text, aspect):\n",
    "    result_dict = {0: 'Negative',\n",
    "                   1: 'Neutral',\n",
    "                   2: 'Positive'}\n",
    "\n",
    "    # Split the text into sentences\n",
    "    sentences = nltk.sent_tokenize(text)\n",
    "\n",
    "    # Get sentence-level predictions\n",
    "    sentence_predictions = predict_sentence(sentences, aspect)\n",
    "    sentence_prediction_map = [result_dict[x] for x in sentence_predictions]\n",
    "\n",
    "    # Aggregate sentence-level predictions to document-level\n",
    "    document_sentiment = aggregate_predictions(sentence_predictions)\n",
    "\n",
    "    return {\n",
    "        \"sentence_predictions\": sentence_prediction_map,\n",
    "        \"document_sentiment\": result_dict[document_sentiment],\n",
    "    }\n"
   ]
  },
  {
   "cell_type": "code",
   "execution_count": 70,
   "metadata": {
    "colab": {
     "base_uri": "https://localhost:8080/"
    },
    "id": "wBzISkKbOHDy",
    "outputId": "3bb8c923-ff54-4700-f836-af02b909b9cf"
   },
   "outputs": [
    {
     "name": "stdout",
     "output_type": "stream",
     "text": [
      "Aspect: Kamala Harris\n",
      "Sentence-Level Predictions: ['Positive', 'Positive', 'Negative', 'Negative', 'Negative']\n",
      "News-Level Sentiment: Negative\n"
     ]
    }
   ],
   "source": [
    "# Example news text and aspect\n",
    "news_text = \"\"\"\n",
    "Donald Trump has demonstrated a strong ability to connect with a significant portion of the American electorate, using his business acumen and direct communication style to resonate with many voters. His administration's focus on deregulation and tax reform received praise from supporters for spurring economic growth in certain sectors.\n",
    "\n",
    "On the other hand, Kamala Harris has faced criticism for perceived inconsistencies in her policy positions, which some argue undermine her credibility. Her record as a prosecutor has been scrutinized for decisions that critics say disproportionately impacted marginalized communities. Additionally, detractors have pointed to her communication style as occasionally lacking clarity, potentially causing misunderstandings about her policy intentions.\n",
    "\"\"\"\n",
    "\n",
    "# aspect = \"Donald Trump\"\n",
    "aspect = \"Kamala Harris\"\n",
    "\n",
    "# Predict sentiment for the document\n",
    "result = predict_document(news_text, aspect)\n",
    "print(f\"Aspect: {aspect}\")\n",
    "print(\"Sentence-Level Predictions:\", result[\"sentence_predictions\"])\n",
    "print(\"News-Level Sentiment:\", result[\"document_sentiment\"])\n"
   ]
  }
 ],
 "metadata": {
  "accelerator": "GPU",
  "colab": {
   "gpuType": "T4",
   "provenance": []
  },
  "kernelspec": {
   "display_name": ".venv",
   "language": "python",
   "name": "python3"
  },
  "language_info": {
   "codemirror_mode": {
    "name": "ipython",
    "version": 3
   },
   "file_extension": ".py",
   "mimetype": "text/x-python",
   "name": "python",
   "nbconvert_exporter": "python",
   "pygments_lexer": "ipython3",
   "version": "3.10.11"
  }
 },
 "nbformat": 4,
 "nbformat_minor": 0
}
